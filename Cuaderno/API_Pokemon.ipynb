{
 "cells": [
  {
   "cell_type": "markdown",
   "id": "6f2ef757",
   "metadata": {},
   "source": [
    "<p style=\"text-align:center;\">\n",
    "  <img src=\"recursos/imagenes/portada.jpg\" style=\"width: 250px;\" />\n",
    "</p>\n",
    "<h1 style=\"text-align: center; font-size: 50px; color:#0C90D2 ;\">Con Python, cada desafío tiene su solución.</h1>\n",
    "<h3 style=\"text-align: center; font-size: 30px; color:#0C90D2 ;\">Generación de mapas usando Folium</h3>"
   ]
  },
  {
   "cell_type": "markdown",
   "id": "ab56a13b",
   "metadata": {},
   "source": [
    "# Contenido:"
   ]
  },
  {
   "cell_type": "markdown",
   "id": "d8e70dce-eabc-4d3d-9f9a-806a5a0bbf3d",
   "metadata": {},
   "source": [
    "* [API](#sec1)\n",
    "* [Práctica](#sec2)\n",
    "    - [Requsitos](#subsec1)\n",
    "    - [Importación de librerías](#subsec2)\n",
    "    - [Configuración](#subsec3)\n",
    "    - [Consulta básica](#subsec4)\n",
    "    - [Funciones](#subsec5)\n",
    "    - [Pokedex](#subsec6)"
   ]
  },
  {
   "cell_type": "markdown",
   "id": "2b8aa14a-e751-4f05-833e-8862a7f918e6",
   "metadata": {},
   "source": [
    "# Conexión y consulta de datoS por medio de una API"
   ]
  },
  {
   "cell_type": "markdown",
   "id": "35923c0e-9493-4f5a-8337-a5579210e585",
   "metadata": {},
   "source": [
    "<a class=\"anchor\" id=\"sec1\"></a>\n",
    "## ¿Qué es una API?"
   ]
  },
  {
   "cell_type": "markdown",
   "id": "90d46a0b-64fe-40ee-87ae-a44190e66f61",
   "metadata": {},
   "source": [
    "Una API (Application Programming Interface, o Interfaz de Programación de Aplicaciones) es un conjunto de reglas y protocolos que permite que diferentes sistemas o aplicaciones se comuniquen entre sí. Funciona como un intermediario que facilita el intercambio de datos y funcionalidades entre software, sin que los usuarios necesiten conocer los detalles internos de su implementación."
   ]
  },
  {
   "cell_type": "markdown",
   "id": "32d7d209-8391-4c63-9512-cde48ece15ba",
   "metadata": {},
   "source": [
    "Tipos de API\n",
    "- APIs Web: Son las más comunes y permiten la comunicación entre aplicaciones a través de internet. Usan protocolos como HTTP y formatos de datos como JSON o XML. Ejemplos:\n",
    "\n",
    "    * RESTful APIs (REST): Basadas en principios REST (Representational State Transfer).\n",
    "    * SOAP APIs: Usan XML y un protocolo más rígido.\n",
    "    GraphQL: Un lenguaje de consulta flexible para APIs.\n",
    "    * APIs de Sistema: Permiten interactuar con el sistema operativo, como las API de Windows o Linux.\n",
    "- APIs de Bibliotecas o Frameworks: Ofrecen funciones específicas dentro de un lenguaje de programación, como NumPy en Python o TensorFlow para IA.\n",
    "- APIs de Hardware: Permiten que el software interactúe con dispositivos físicos, como una API de cámaras o sensores."
   ]
  },
  {
   "cell_type": "markdown",
   "id": "caa80754-a182-4c7d-b4cf-2c26bd6071ac",
   "metadata": {},
   "source": [
    "<a class=\"anchor\" id=\"sec2\"></a>\n",
    "## Práctica"
   ]
  },
  {
   "cell_type": "markdown",
   "id": "d1125160",
   "metadata": {},
   "source": [
    "El objetivo de nuestra práctica es consumir la API de Pokémon para realizar consultas y extraer información estructurada sobre diversas especies de Pokémon. A través de esta integración, desarrollaremos una Pokédex digital que almacenará y presentará datos relevantes, incluyendo identificadores únicos, nombres, tipos, habilidades, estadísticas base y evoluciones. Para ello, utilizaremos solicitudes HTTP a los endpoints de la API, procesaremos respuestas en formato JSON y aplicaremos técnicas de manipulación de datos para estructurar y visualizar la información de manera eficiente..\r\n"
   ]
  },
  {
   "cell_type": "markdown",
   "id": "79416b4e-1e0b-4006-81ac-7146d04fb11e",
   "metadata": {},
   "source": [
    "<a class=\"anchor\" id=\"subsec1\"></a>\n",
    "### Requsitos"
   ]
  },
  {
   "cell_type": "markdown",
   "id": "88319482-d43b-4efa-9489-97c60672a710",
   "metadata": {},
   "source": [
    "Antes de iniciar se deben tener en cuenta las siguientes recomendaciones:\n",
    "\n",
    "* Opcional:\n",
    "    * Tener python 3, preferible >=3.8\n",
    "    * Crear un entorno virtual\n",
    "* Obligatorio:\n",
    "    * instalar googlemaps y folium:\n",
    "        * Con conda:\n",
    "          ```python\n",
    "          conda install -c conda-forge pandas\n",
    "          ```      \n",
    "        * Con pip:\n",
    "          ```python\n",
    "          pip install pandas\n",
    "          ```"
   ]
  },
  {
   "cell_type": "markdown",
   "id": "042d1fc3",
   "metadata": {},
   "source": [
    "<a class=\"anchor\" id=\"subsec2\"></a>\n",
    "### Importación de librerías"
   ]
  },
  {
   "cell_type": "code",
   "execution_count": 1,
   "id": "54b2d2d9",
   "metadata": {},
   "outputs": [],
   "source": [
    "# Importamos librerias\n",
    "import requests\n",
    "import json\n",
    "import pandas as pd\n",
    "from PIL import Image\n",
    "from IPython.display import display"
   ]
  },
  {
   "cell_type": "markdown",
   "id": "1f63d95c-3211-41cc-8a59-52074faf1d4f",
   "metadata": {},
   "source": [
    "<a class=\"anchor\" id=\"subsec3\"></a>\n",
    "### Configuración"
   ]
  },
  {
   "cell_type": "markdown",
   "id": "63142069-4e0e-4c82-82ef-037cbad0b4fe",
   "metadata": {},
   "source": [
    "La API que usaremos es [PokeAPI](https://pokeapi.co/), una API RESTful de código abierto y de acceso gratuito, diseñada para proporcionar información detallada sobre el universo Pokémon. Esta API permite realizar consultas eficientes a su base de datos estructurada, obteniendo información en formato JSON sobre especies, habilidades, movimientos, estadísticas y evoluciones. Su arquitectura RESTful facilita la exploración y comprensión de los principios fundamentales de este tipo de API, incluyendo el uso de métodos HTTP, el manejo de endpoints y la manipulación de respuestas en formato estructurado."
   ]
  },
  {
   "cell_type": "markdown",
   "id": "108e3c01-070e-48e0-a810-0aa524a672a7",
   "metadata": {},
   "source": [
    "Por lo cual, lo primero que debemos establecer es la URL a la que nos conectaremos:"
   ]
  },
  {
   "cell_type": "code",
   "execution_count": 2,
   "id": "fe32620a-aaee-4218-bbae-bcd0e6470d25",
   "metadata": {},
   "outputs": [],
   "source": [
    "# Url de la api donde realizaremos las consultas\n",
    "url = \"http://pokeapi.co/api//v2/pokemon-form/\""
   ]
  },
  {
   "cell_type": "markdown",
   "id": "a49ab86f",
   "metadata": {},
   "source": [
    "<a class=\"anchor\" id=\"subsec4\"></a>\n",
    "### Consulta básica"
   ]
  },
  {
   "cell_type": "markdown",
   "id": "988ac249-24d9-4f7a-93f0-b8486b406af9",
   "metadata": {},
   "source": [
    "El siguiente bloque de código realiza una consulta a la API, verificando si la conexión se establece correctamente. Si la solicitud HTTP devuelve un código de estado 200 (OK), indicará que la conexión fue exitosa mostrando el mensaje \"Conexión exitosa\". En caso contrario, se capturará el código de estado de la respuesta y se mostrará un mensaje de error correspondiente, permitiendo identificar posibles fallos en la comunicación con la API.\n",
    "\n",
    "Por otra parte, el contenido de la respuesta (response) devuelta por la API es de tipo `bytes`, lo que dificulta su interpretación directa. Para mejorar su legibilidad y facilitar su manipulación, utilizamos la biblioteca `json` para convertir el contenido de la respuesta en un diccionario de Python. Esto nos permite acceder de manera estructurada a los datos, facilitando su análisis y procesamiento en el código."
   ]
  },
  {
   "cell_type": "code",
   "execution_count": 3,
   "id": "ce67436d-0d06-4495-9654-3e4dff1c8219",
   "metadata": {},
   "outputs": [
    {
     "name": "stdout",
     "output_type": "stream",
     "text": [
      "Conexión exitosa\n"
     ]
    }
   ],
   "source": [
    "# Realiza la consulta a la API\n",
    "try:\n",
    "    response = requests.get(url)\n",
    "    if response.status_code != 200:\n",
    "        print(f\"Error {response.status_code} al consultar la url\")\n",
    "    print(\"Conexión exitosa\")\n",
    "    data_raw = response.json()\n",
    "except Exception as e:\n",
    "    print(\"Se ha presentado una exepción: \\n\" + str(e))"
   ]
  },
  {
   "cell_type": "markdown",
   "id": "a2fd8b73-db9f-4550-a52b-ccaf8ab09aa9",
   "metadata": {},
   "source": [
    "Podemos observar que el contenido de la respuesta, almacenado en la variable `data_raw`, es de tipo diccionario, lo que nos permite acceder a sus elementos de manera estructurada. Dentro de este diccionario, los datos de interés se encuentran almacenados en la clave `results`, la cual contiene una lista con la información relevante extraída de la API. \n",
    "\n",
    "Note que la información de los nombres de Pokemones viene en grupos de 20."
   ]
  },
  {
   "cell_type": "code",
   "execution_count": 4,
   "id": "9b74348f-ee41-483f-b53c-8cf1a98d74d9",
   "metadata": {},
   "outputs": [
    {
     "data": {
      "text/plain": [
       "{'count': 1527,\n",
       " 'next': 'https://pokeapi.co/api/v2/pokemon-form/?offset=20&limit=20',\n",
       " 'previous': None,\n",
       " 'results': [{'name': 'bulbasaur',\n",
       "   'url': 'https://pokeapi.co/api/v2/pokemon-form/1/'},\n",
       "  {'name': 'ivysaur', 'url': 'https://pokeapi.co/api/v2/pokemon-form/2/'},\n",
       "  {'name': 'venusaur', 'url': 'https://pokeapi.co/api/v2/pokemon-form/3/'},\n",
       "  {'name': 'charmander', 'url': 'https://pokeapi.co/api/v2/pokemon-form/4/'},\n",
       "  {'name': 'charmeleon', 'url': 'https://pokeapi.co/api/v2/pokemon-form/5/'},\n",
       "  {'name': 'charizard', 'url': 'https://pokeapi.co/api/v2/pokemon-form/6/'},\n",
       "  {'name': 'squirtle', 'url': 'https://pokeapi.co/api/v2/pokemon-form/7/'},\n",
       "  {'name': 'wartortle', 'url': 'https://pokeapi.co/api/v2/pokemon-form/8/'},\n",
       "  {'name': 'blastoise', 'url': 'https://pokeapi.co/api/v2/pokemon-form/9/'},\n",
       "  {'name': 'caterpie', 'url': 'https://pokeapi.co/api/v2/pokemon-form/10/'},\n",
       "  {'name': 'metapod', 'url': 'https://pokeapi.co/api/v2/pokemon-form/11/'},\n",
       "  {'name': 'butterfree', 'url': 'https://pokeapi.co/api/v2/pokemon-form/12/'},\n",
       "  {'name': 'weedle', 'url': 'https://pokeapi.co/api/v2/pokemon-form/13/'},\n",
       "  {'name': 'kakuna', 'url': 'https://pokeapi.co/api/v2/pokemon-form/14/'},\n",
       "  {'name': 'beedrill', 'url': 'https://pokeapi.co/api/v2/pokemon-form/15/'},\n",
       "  {'name': 'pidgey', 'url': 'https://pokeapi.co/api/v2/pokemon-form/16/'},\n",
       "  {'name': 'pidgeotto', 'url': 'https://pokeapi.co/api/v2/pokemon-form/17/'},\n",
       "  {'name': 'pidgeot', 'url': 'https://pokeapi.co/api/v2/pokemon-form/18/'},\n",
       "  {'name': 'rattata', 'url': 'https://pokeapi.co/api/v2/pokemon-form/19/'},\n",
       "  {'name': 'raticate', 'url': 'https://pokeapi.co/api/v2/pokemon-form/20/'}]}"
      ]
     },
     "execution_count": 4,
     "metadata": {},
     "output_type": "execute_result"
    }
   ],
   "source": [
    "# Observamos el contenido\n",
    "data_raw"
   ]
  },
  {
   "cell_type": "markdown",
   "id": "02aa6c26-9f38-4934-bf88-7e068cfc531b",
   "metadata": {},
   "source": [
    "<a class=\"anchor\" id=\"subsec5\"></a>\n",
    "### Funciones"
   ]
  },
  {
   "cell_type": "markdown",
   "id": "1ea35369-b908-41c8-8e68-4fe89ba76aec",
   "metadata": {},
   "source": [
    "Ahora bien, podemos estructurar nuestro código definiendo un conjunto de funciones reutilizables que nos permitan consultar y extraer información de la API de manera modular y eficiente. Para ello, crearemos una función encargada de realizar la solicitud HTTP y devolver la respuesta (response) de la API y adicionalmente,  permitirá obtener los nombres de los Pokémon en bloques de 20 en 20, facilitando la paginación y navegación a través de la base de datos."
   ]
  },
  {
   "cell_type": "code",
   "execution_count": 5,
   "id": "4a3b3cc3-159c-4b07-a87e-31f91ffb8736",
   "metadata": {},
   "outputs": [],
   "source": [
    "def get_name_pokemon(url=\"http://pokeapi.co/api//v2/pokemon-form/\", offset=0):\n",
    "    '''\n",
    "    Obtiene de forma interactiva nombres de pokemones en bloqes de 20.\n",
    "\n",
    "    Parameters\n",
    "    ----------\n",
    "    url : str, optional\n",
    "        Url de la API. El valor por defecto es: \"http://pokeapi.co/api//v2/pokemon-form/\".\n",
    "    offset : int, optional\n",
    "        Define el valor de paginado. El valor por defecto es: 0.\n",
    "\n",
    "    Returns\n",
    "    -------\n",
    "    function\n",
    "        Retormna la misma fución en función de la interaación con el usuario\n",
    "    '''\n",
    "    args = {\"offset\": offset} if offset else {}\n",
    "    try:\n",
    "        response = requests.get(url, params=args)\n",
    "        if response.status_code != 200:\n",
    "            print(f\"Error {response.status_code} al consultar la url\")\n",
    "        # print(\"Conexión exitosa\")\n",
    "        data_raw = response.json()\n",
    "        results = data_raw.get(\"results\")\n",
    "        for pokemon in results:\n",
    "            print(pokemon.get(\"name\", \"Desconocido\"))\n",
    "        while True:\n",
    "            next = input(\"¿Desea cosultar más pokemones? [Y/N]\").lower()\n",
    "            if next != \"y\":\n",
    "                # print(\"Consulta finalizada\")\n",
    "                break\n",
    "            offset+=20\n",
    "            return get_name_pokemon(url, offset)\n",
    "    except Exception as e:\n",
    "         print(\"Se ha presentado una exepción al obtener los datos: \\n\" + str(e))"
   ]
  },
  {
   "cell_type": "markdown",
   "id": "863578d7-05d6-407c-aaf2-a38706031e89",
   "metadata": {},
   "source": [
    "Ahora podemos consultar los primeros 40 pokemones."
   ]
  },
  {
   "cell_type": "code",
   "execution_count": 6,
   "id": "3365cd07-5f62-4814-bea0-74a8ac25f7d2",
   "metadata": {},
   "outputs": [
    {
     "name": "stdout",
     "output_type": "stream",
     "text": [
      "bulbasaur\n",
      "ivysaur\n",
      "venusaur\n",
      "charmander\n",
      "charmeleon\n",
      "charizard\n",
      "squirtle\n",
      "wartortle\n",
      "blastoise\n",
      "caterpie\n",
      "metapod\n",
      "butterfree\n",
      "weedle\n",
      "kakuna\n",
      "beedrill\n",
      "pidgey\n",
      "pidgeotto\n",
      "pidgeot\n",
      "rattata\n",
      "raticate\n"
     ]
    },
    {
     "name": "stdin",
     "output_type": "stream",
     "text": [
      "¿Desea cosultar más pokemones? [Y/N] y\n"
     ]
    },
    {
     "name": "stdout",
     "output_type": "stream",
     "text": [
      "spearow\n",
      "fearow\n",
      "ekans\n",
      "arbok\n",
      "pikachu\n",
      "raichu\n",
      "sandshrew\n",
      "sandslash\n",
      "nidoran-f\n",
      "nidorina\n",
      "nidoqueen\n",
      "nidoran-m\n",
      "nidorino\n",
      "nidoking\n",
      "clefairy\n",
      "clefable\n",
      "vulpix\n",
      "ninetales\n",
      "jigglypuff\n",
      "wigglytuff\n"
     ]
    },
    {
     "name": "stdin",
     "output_type": "stream",
     "text": [
      "¿Desea cosultar más pokemones? [Y/N] n\n"
     ]
    }
   ],
   "source": [
    "get_name_pokemon()"
   ]
  },
  {
   "cell_type": "markdown",
   "id": "ea718e15-e97d-45ef-a7f1-da88c9a3bc27",
   "metadata": {},
   "source": [
    "Ahora es el momento de consultar la información detallada de un Pokémon específico. Para ello, construiremos una función que reciba como argumento el nombre del Pokémon y realice una solicitud a la API para obtener sus características. Esta función nos permitirá extraer datos relevantes, como su tipo, estadísticas base, habilidades y más, facilitando así el acceso a información detallada de cada Pokémon."
   ]
  },
  {
   "cell_type": "code",
   "execution_count": 7,
   "id": "4af3b557-fab2-4971-ab52-a7e8a0361f56",
   "metadata": {},
   "outputs": [],
   "source": [
    "def get_pokemon(url=\"http://pokeapi.co/api//v2/pokemon/\", pokemon=\"pikachu\"):\n",
    "    '''\n",
    "    Obtiene la información o características del pokemon.\n",
    "    \n",
    "    Parameters\n",
    "    ----------\n",
    "    url : str, optional\n",
    "        Url de la API. El valor por defecto es: \"http://pokeapi.co/api//v2/pokemon-form/\".\n",
    "    pokemon : str\n",
    "        Nombre del pokemon a consultar. El valor por defecto es: \"pikachu\".\n",
    "\n",
    "    Returns\n",
    "    -------\n",
    "    data_raw : dict\n",
    "        Diccionario con la información el pokemon.\n",
    "    '''\n",
    "    # Definimos la url del pokemon a consultar\n",
    "    url += pokemon\n",
    "    try:\n",
    "        response = requests.get(url)\n",
    "        if response.status_code != 200:\n",
    "            print(f\"Error {response.status_code} al consultar la url\")\n",
    "        # print(\"Conexión exitosa\")\n",
    "        data_raw = response.json()\n",
    "        return data_raw\n",
    "    except Exception as e:\n",
    "        print(f\"Se ha presentado una exepción al obtner los datos  de {pokemon}: \\n\" + str(e))"
   ]
  },
  {
   "cell_type": "markdown",
   "id": "5bc349be-126a-449d-94a3-4e2bc82df176",
   "metadata": {},
   "source": [
    "Es importante destacar que la información obtenida sobre las características del Pokémon es bastante extensa, ya que la API proporciona una gran cantidad de datos detallados. Sin embargo, este resultado es un excelente ejemplo de cómo podemos interactuar con una API para extraer información estructurada y aprovecharla según nuestras necesidades. "
   ]
  },
  {
   "cell_type": "code",
   "execution_count": 8,
   "id": "372f8bb2-08c9-4c2b-b93d-e1294a85a1df",
   "metadata": {
    "scrolled": true
   },
   "outputs": [],
   "source": [
    "# Deatalle de la informacion del pokemon\n",
    "# get_pokemon(pokemon=\"pikachu\")"
   ]
  },
  {
   "cell_type": "markdown",
   "id": "412b424a",
   "metadata": {},
   "source": [
    "<a class=\"anchor\" id=\"subsec6\"></a>\n",
    "### Pokedex"
   ]
  },
  {
   "cell_type": "markdown",
   "id": "a7c95ac6-624d-4fca-baf9-8f0e334ab47f",
   "metadata": {},
   "source": [
    "Después de haber explorado la información obtenida de la API, es momento de construir nuestra Pokédex, la cual nos permitirá visualizar de forma resumida algunas de las características más relevantes de cada Pokémon, incluyendo su nombre, ID, altura, peso, tipo y habilidades. Además, incorporaremos la opción de obtener y mostrar una imagen representativa del Pokémon.\n",
    "\n",
    "Para lograrlo, desarrollaremos dos funciones especializadas:\n",
    "\n",
    "- Una función para extraer y estructurar la información clave del Pokémon.\n",
    "- Otra función para obtener y mostrar su imagen.\n"
   ]
  },
  {
   "cell_type": "code",
   "execution_count": 9,
   "id": "93d98e33-5a48-4aa2-96eb-8bd2ff46a38c",
   "metadata": {},
   "outputs": [],
   "source": [
    "def image_pokemon(id, pokemon, url=\"http://pokeapi.co/api//v2/pokemon/\"):\n",
    "    '''\n",
    "    Obtiene el sprites o imagen del pokemon.\n",
    "\n",
    "    Parameters\n",
    "    ----------\n",
    "    id : int\n",
    "        Identificador del pokemon.\n",
    "    pokemon : str\n",
    "        Nombre del pokemon a consultar.\n",
    "    url : str, optional\n",
    "        Url de la API. El valor por defecto es: \"http://pokeapi.co/api//v2/pokemon-form/\".\n",
    "\n",
    "    Returns\n",
    "    -------\n",
    "    None.\n",
    "    '''\n",
    "    url += str(id)\n",
    "    try:\n",
    "        response = requests.get(url)\n",
    "        if response.status_code != 200:\n",
    "            print(f\"Error {response.status_code} al consultar la url\")\n",
    "        # print(\"Conexión exitosa\")\n",
    "        data_raw = response.json()\n",
    "        url_image = data_raw[\"sprites\"][\"front_default\"]\n",
    "        response_image = requests.get(url_image, stream=True)\n",
    "        nombre_pokemon = pokemon + \".png\"\n",
    "        with open(nombre_pokemon, \"wb\") as file:\n",
    "            # Descarga el contenido poco a poco\n",
    "            for chunk in response_image.iter_content():\n",
    "                # Escribe el archivo\n",
    "                file.write(chunk)\n",
    "        response_image.close()\n",
    "        # Muestra la imagen\n",
    "        display(Image.open(nombre_pokemon).convert('RGB'))\n",
    "    except Exception as e:\n",
    "        print(\"Se ha presentado una exepción al obtener la imagen: \\n\" + str(e))"
   ]
  },
  {
   "cell_type": "code",
   "execution_count": 10,
   "id": "7ddc419b-6a0c-4848-8b03-1c62ca943926",
   "metadata": {},
   "outputs": [],
   "source": [
    "def pokedex(url=\"http://pokeapi.co/api//v2/pokemon/\", pokemon=\"pikachu\"):\n",
    "    '''\n",
    "    Obtiene los datos relevantes del pokemon. Usa la función image_pokemon\n",
    "    para obtener la imagen de este.\n",
    "\n",
    "    Parameters\n",
    "    ----------\n",
    "    url : str, optional\n",
    "        Url de la API. El valor por defecto es: \"http://pokeapi.co/api//v2/pokemon-form/\".\n",
    "    pokemon : str, optional\n",
    "        Nombre del pokemon a consultar. El valor por defecto es: \"pikachu\".\n",
    "\n",
    "    Returns\n",
    "    -------\n",
    "    DataFrame\n",
    "        DataFrame con la información del pokemon.\n",
    "    '''\n",
    "    # Definimos la url del pokemon a consultar\n",
    "    url += pokemon.lower()\n",
    "    try:\n",
    "        response = requests.get(url)\n",
    "        if response.status_code != 200:\n",
    "            print(f\"Error {response.status_code} al consultar la url\")\n",
    "        # print(\"Conexión exitosa\")\n",
    "        data_raw = response.json()\n",
    "        # Obtiene los datos\n",
    "        name = data_raw.get(\"name\")\n",
    "        id = data_raw.get(\"id\")\n",
    "        height = data_raw.get(\"height\")/10 # metros\n",
    "        weight = data_raw.get(\"weight\")/10 # kg\n",
    "        type = data_raw[\"types\"][0][\"type\"][\"name\"]\n",
    "        # Concatena las habilidades\n",
    "        conteo = len(data_raw[\"abilities\"])\n",
    "        habilidad = [data_raw[\"abilities\"][i][\"ability\"][\"name\"] for i in range(conteo)]\n",
    "        habilidades = \", \".join(habilidad)\n",
    "        # Crea de un dataframe\n",
    "        datos = {\"Datos\": [name, id, height, weight, type, habilidades]}\n",
    "        index = [\"Nombre\", \"Id\", \"Altura\", \"Peso\", \"Tipo\", \"Habilidades\"]\n",
    "        # Obtiene la imagen\n",
    "        image_pokemon(id, pokemon)\n",
    "        return pd.DataFrame(data=datos, index=index)\n",
    "    except Exception as e:\n",
    "        print(f\"Se ha presentado una exepción al obtner los datos  de {pokemon}: \\n\" + str(e))     "
   ]
  },
  {
   "cell_type": "code",
   "execution_count": 11,
   "id": "0d9df13a-a8f9-4a3c-8939-938ada409a5f",
   "metadata": {},
   "outputs": [
    {
     "data": {
      "image/jpeg": "[encoded data removed]",
      "image/png": "[encoded data removed]",
      "text/plain": [
       "<PIL.Image.Image image mode=RGB size=96x96>"
      ]
     },
     "metadata": {},
     "output_type": "display_data"
    },
    {
     "data": {
      "text/html": [
       "<div>\n",
       "<style scoped>\n",
       "    .dataframe tbody tr th:only-of-type {\n",
       "        vertical-align: middle;\n",
       "    }\n",
       "\n",
       "    .dataframe tbody tr th {\n",
       "        vertical-align: top;\n",
       "    }\n",
       "\n",
       "    .dataframe thead th {\n",
       "        text-align: right;\n",
       "    }\n",
       "</style>\n",
       "<table border=\"1\" class=\"dataframe\">\n",
       "  <thead>\n",
       "    <tr style=\"text-align: right;\">\n",
       "      <th></th>\n",
       "      <th>Datos</th>\n",
       "    </tr>\n",
       "  </thead>\n",
       "  <tbody>\n",
       "    <tr>\n",
       "      <th>Nombre</th>\n",
       "      <td>charizard</td>\n",
       "    </tr>\n",
       "    <tr>\n",
       "      <th>Id</th>\n",
       "      <td>6</td>\n",
       "    </tr>\n",
       "    <tr>\n",
       "      <th>Altura</th>\n",
       "      <td>1.7</td>\n",
       "    </tr>\n",
       "    <tr>\n",
       "      <th>Peso</th>\n",
       "      <td>90.5</td>\n",
       "    </tr>\n",
       "    <tr>\n",
       "      <th>Tipo</th>\n",
       "      <td>fire</td>\n",
       "    </tr>\n",
       "    <tr>\n",
       "      <th>Habilidades</th>\n",
       "      <td>blaze, solar-power</td>\n",
       "    </tr>\n",
       "  </tbody>\n",
       "</table>\n",
       "</div>"
      ],
      "text/plain": [
       "                          Datos\n",
       "Nombre                charizard\n",
       "Id                            6\n",
       "Altura                      1.7\n",
       "Peso                       90.5\n",
       "Tipo                       fire\n",
       "Habilidades  blaze, solar-power"
      ]
     },
     "execution_count": 11,
     "metadata": {},
     "output_type": "execute_result"
    }
   ],
   "source": [
    "pokedex(pokemon=\"charizard\")"
   ]
  }
 ],
 "metadata": {
  "kernelspec": {
   "display_name": "Mapas",
   "language": "python",
   "name": "mapas"
  },
  "language_info": {
   "codemirror_mode": {
    "name": "ipython",
    "version": 3
   },
   "file_extension": ".py",
   "mimetype": "text/x-python",
   "name": "python",
   "nbconvert_exporter": "python",
   "pygments_lexer": "ipython3",
   "version": "3.8.12"
  },
  "widgets": {
   "application/vnd.jupyter.widget-state+json": {
    "state": {},
    "version_major": 2,
    "version_minor": 0
   }
  }
 },
 "nbformat": 4,
 "nbformat_minor": 5
}
